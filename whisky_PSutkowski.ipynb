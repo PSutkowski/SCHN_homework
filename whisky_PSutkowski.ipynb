{
 "cells": [
  {
   "cell_type": "markdown",
   "metadata": {},
   "source": [
    "# 1. What interesting information user can find in the dataset?"
   ]
  },
  {
   "cell_type": "markdown",
   "metadata": {},
   "source": [
    "###### Input data summary"
   ]
  },
  {
   "cell_type": "markdown",
   "metadata": {},
   "source": [
    " A. 109 whiskies are described by 5 characteristics: color (14 options),nose (12 options),body (8 options), palate (15 options), finish (19 options). For each characteristic, 1 whisky can have only 1 option selected."
   ]
  },
  {
   "cell_type": "markdown",
   "metadata": {},
   "source": [
    " B. for each whisky there is distillery assigned. Distillery might be identified by geographical coordinates (latitude/longitude) and region/district (which indicates macrogeographic location, such as proximity to the sea, altiude etc.)"
   ]
  },
  {
   "cell_type": "markdown",
   "metadata": {},
   "source": [
    " C. for each whisky there is score indicating quality (varies from 55% to 90%): score is based on one of references invoked in \"Lapointe, F.-J. & P. Legendre. 1994. A classification of pure malt Scotch whiskies.\" study, which is starting point for this study."
   ]
  },
  {
   "cell_type": "markdown",
   "metadata": {},
   "source": [
    "###### Identified potential data applications"
   ]
  },
  {
   "cell_type": "markdown",
   "metadata": {},
   "source": [
    "\n",
    " A. relation between whisky quality score and different characteristics: check if whiskies scoring higher are more likely to have certain values of color,nose, body, palate and finish ?"
   ]
  },
  {
   "cell_type": "markdown",
   "metadata": {},
   "source": [
    " B. relation between distillery location/district/region and whisky's characteristics: is there any ? (for example, if distilleries of lower altitude tend to produce whisky of certain colour ?)"
   ]
  },
  {
   "cell_type": "markdown",
   "metadata": {},
   "source": [
    " C. similarity of whiskies (being analazyed in further part if this study): considering characteristics for each whisky, how \"similar\" they are to each other ?"
   ]
  },
  {
   "cell_type": "markdown",
   "metadata": {},
   "source": [
    "# 2. Core code: determine whiskies similarity"
   ]
  },
  {
   "cell_type": "raw",
   "metadata": {},
   "source": [
    "ASSUMPTION: since questions in the task are related to taste preferences, distillery details (location etc) are omitted."
   ]
  },
  {
   "cell_type": "markdown",
   "metadata": {},
   "source": [
    "###### Define function for whisky similarity, including only one characteristic"
   ]
  },
  {
   "cell_type": "code",
   "execution_count": 54,
   "metadata": {
    "scrolled": true
   },
   "outputs": [
    {
     "name": "stdout",
     "output_type": "stream",
     "text": [
      "0      0\n",
      "1      1\n",
      "2      0\n",
      "3      0\n",
      "4      0\n",
      "      ..\n",
      "104    0\n",
      "105    0\n",
      "106    0\n",
      "107    0\n",
      "108    0\n",
      "Name: similarity, Length: 109, dtype: int64\n"
     ]
    }
   ],
   "source": [
    "import pandas as pd\n",
    "\n",
    "# define function that returns column of \"similarities\" - 1 means whiskyID is similar\n",
    "# in terms of considered characteristic to the given row\n",
    "\n",
    "def char_similarity(charFilename,whiskyID):\n",
    "    df = pd.read_csv(charFilename,delimiter = \" \", header = None, skiprows=1)# read data for specified characteristics\n",
    "    df2 = df.subtract(df.iloc[whiskyID],axis=1)# substract row of interest from every other row\n",
    "    df2['similarity'] = 1 - df2.max(axis=1) # if whisky was similar to given row, whole row is 0\n",
    "    return df2['similarity']\n",
    "\n",
    "print(char_similarity('COLOR.TXT',1)) # EXAMPLE: test color similarity of whisky indexed as 1 to all whiskies"
   ]
  },
  {
   "cell_type": "markdown",
   "metadata": {},
   "source": [
    "###### Define function that will calculate similarity of one whisky to another, including all characteristic."
   ]
  },
  {
   "cell_type": "markdown",
   "metadata": {},
   "source": [
    "ASSUMPTION: all characteristic are considered to have even weight"
   ]
  },
  {
   "cell_type": "code",
   "execution_count": 55,
   "metadata": {},
   "outputs": [
    {
     "name": "stdout",
     "output_type": "stream",
     "text": [
      "     COLOR.TXT  NOSE.TXT  BODY.TXT  PALATE.TXT  FINISH.TXT  similarity  \\\n",
      "77           1       1.0       1.0           1           1         1.0   \n",
      "2            0       1.0       0.0           0           1         0.4   \n",
      "3            0       0.0       1.0           0           1         0.4   \n",
      "95           0       1.0       0.0           0           1         0.4   \n",
      "23           0       1.0       1.0           0           0         0.4   \n",
      "..         ...       ...       ...         ...         ...         ...   \n",
      "37           0       0.0       0.0           0           0         0.0   \n",
      "36           0       0.0       0.0           0           0         0.0   \n",
      "35           0       0.0       0.0           0           0         0.0   \n",
      "34           0       0.0       0.0           0           0         0.0   \n",
      "108          0       0.0       0.0           0           0         0.0   \n",
      "\n",
      "           name  \n",
      "77    Lagavulin  \n",
      "2       Ardberg  \n",
      "3       Ardmore  \n",
      "95    Singleton  \n",
      "23    Clynelish  \n",
      "..          ...  \n",
      "37   Glenallach  \n",
      "36   Glen__Alby  \n",
      "35   Fettercair  \n",
      "34     Edradour  \n",
      "108  Tullibardi  \n",
      "\n",
      "[109 rows x 7 columns]\n"
     ]
    }
   ],
   "source": [
    "def whiskies_similarity(charList,whiskyID):\n",
    "    i=0\n",
    "    for characteristic in charList:\n",
    "        if i==0:\n",
    "            df = pd.DataFrame(char_similarity(characteristic,whiskyID))# read/process first characteristic\n",
    "            i = 1\n",
    "        else:\n",
    "            df = df.join(char_similarity(characteristic,whiskyID),rsuffix=charList[i]) #read/process further characteristics\n",
    "            i=i+1\n",
    "    df.columns=charList # rename columns to match characteristics\n",
    "    df['similarity'] = df.mean(axis=1)\n",
    "    df['name'] = pd.read_csv(\"NAMES_PSutkowski.txt\",header=None) # read whiskies names from custo\n",
    "    return df\n",
    "charList = ['COLOR.TXT','NOSE.TXT','BODY.TXT','PALATE.TXT','FINISH.TXT'] \n",
    "\n",
    "print(whiskies_similarity(charList,77).sort_values(by='similarity',ascending=False))\n",
    "    "
   ]
  },
  {
   "cell_type": "markdown",
   "metadata": {},
   "source": [
    "# 3. Data visualization and further processing"
   ]
  }
 ],
 "metadata": {
  "kernelspec": {
   "display_name": "Python 3",
   "language": "python",
   "name": "python3"
  },
  "language_info": {
   "codemirror_mode": {
    "name": "ipython",
    "version": 3
   },
   "file_extension": ".py",
   "mimetype": "text/x-python",
   "name": "python",
   "nbconvert_exporter": "python",
   "pygments_lexer": "ipython3",
   "version": "3.8.5"
  }
 },
 "nbformat": 4,
 "nbformat_minor": 4
}
