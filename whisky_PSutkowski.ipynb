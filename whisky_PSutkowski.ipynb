{
 "cells": [
  {
   "cell_type": "markdown",
   "metadata": {},
   "source": [
    "1. What interesting information user can find in the dataset?\n",
    " A. 109 whiskies are described by 5 characteristics: color (14 options),nose (12 options),body (8 options), palate (15 options), finish (19 options). For each characteristic, 1 whisky can have only 1 option selected.\n",
    " B. for each whisky there is distillery assigned. Distillery might be identified by geographical coordinates (latitude/longitude) and region/district (which indicates macrogeographic location, such as proximity to the sea, altiude etc.)\n",
    " C. for each whisky there is score indicating quality (varies from 55% to 90%): score is based on one of references invoked in \"Lapointe, F.-J. & P. Legendre. 1994. A classification of pure malt Scotch whiskies.\" study, which is starting point for this study.\n",
    "\n",
    "2. Therefore, multiple studies can be considered:\n",
    " A. relation between whisky quality score and different characteristics: check if whiskies scoring higher are more likely to have certain values of color,nose, body, palate and finish ?\n",
    " B. relation between distillery location/district/region and whisky's characteristics: is there any ? (for example, if distilleries of lower altitude tend to produce whisky of certain colour ?)\n",
    " C. similarity of whiskies (being analazyed in further part if this study): given characteristics for each whisky, how \"similar\" they are to each other ?\n"
   ]
  },
  {
   "cell_type": "code",
   "execution_count": 23,
   "metadata": {},
   "outputs": [
    {
     "name": "stdout",
     "output_type": "stream",
     "text": [
      "0      0\n",
      "1      1\n",
      "2      0\n",
      "3      0\n",
      "4      0\n",
      "      ..\n",
      "104    0\n",
      "105    0\n",
      "106    0\n",
      "107    0\n",
      "108    0\n",
      "Name: similarity, Length: 109, dtype: int64\n"
     ]
    }
   ],
   "source": [
    "import pandas as pd\n",
    "\n",
    "# define function that returns column of \"similarities\" - 1 means whiskyID is similar\n",
    "# in terms of considered characteristic to the given row\n",
    "\n",
    "def char_similarity(charFilename,whiskyID):\n",
    "    df = pd.read_csv(charFilename,delimiter = \" \", header = None, skiprows=1)# read data\n",
    "    df2 = df.subtract(df.iloc[whiskyID],axis=1)# substract row of interest from every other row\n",
    "    df2['similarity'] = 1 - df2.max(axis=1) # if whisky was similar to given row, whole row is 0\n",
    "    return df2['similarity']\n",
    "\n",
    "print(char_similarity('COLOR.TXT',1)) # test color similarity of whisky indexed as 1 to all whiskies"
   ]
  },
  {
   "cell_type": "code",
   "execution_count": null,
   "metadata": {},
   "outputs": [],
   "source": []
  }
 ],
 "metadata": {
  "kernelspec": {
   "display_name": "Python 3",
   "language": "python",
   "name": "python3"
  },
  "language_info": {
   "codemirror_mode": {
    "name": "ipython",
    "version": 3
   },
   "file_extension": ".py",
   "mimetype": "text/x-python",
   "name": "python",
   "nbconvert_exporter": "python",
   "pygments_lexer": "ipython3",
   "version": "3.8.5"
  }
 },
 "nbformat": 4,
 "nbformat_minor": 4
}
