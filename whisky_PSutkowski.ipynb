{
 "cells": [
  {
   "cell_type": "markdown",
   "metadata": {},
   "source": [
    "What interesting information user can find in the dataset?\n",
    " - 109 whiskies are described by 5 characteristics: color (14 options),nose (12 options),body (8 options), palate (15 options), finish (19 options). For each characteristic, 1 whisky can have only 1 option selected.\n",
    " - for each whisky there is distillery assigned. Distillery might be identified by geographical coordinates (latitude/longitude) and region/district (which indicates macrogeographic location, such as proximity to the sea, altiude etc.)\n",
    " - for each whisky there is score indicating quality (varies from 55% to 90%): score is based on one of references invoked in \"Lapointe, F.-J. & P. Legendre. 1994. A classification of pure malt Scotch whiskies.\" study, which is starting point for this study.\n",
    "\n",
    "\n"
   ]
  },
  {
   "cell_type": "code",
   "execution_count": null,
   "metadata": {},
   "outputs": [],
   "source": []
  }
 ],
 "metadata": {
  "kernelspec": {
   "display_name": "Python 3",
   "language": "python",
   "name": "python3"
  },
  "language_info": {
   "codemirror_mode": {
    "name": "ipython",
    "version": 3
   },
   "file_extension": ".py",
   "mimetype": "text/x-python",
   "name": "python",
   "nbconvert_exporter": "python",
   "pygments_lexer": "ipython3",
   "version": "3.8.5"
  }
 },
 "nbformat": 4,
 "nbformat_minor": 4
}
