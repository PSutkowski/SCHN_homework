{
 "cells": [
  {
   "cell_type": "markdown",
   "metadata": {},
   "source": [
    "# 1. What interesting information user can find in the dataset?"
   ]
  },
  {
   "cell_type": "markdown",
   "metadata": {},
   "source": [
    "###### Input data summary"
   ]
  },
  {
   "cell_type": "markdown",
   "metadata": {},
   "source": [
    " A. 109 whiskies are described by 5 characteristics: color (14 options),nose (12 options),body (8 options), palate (15 options), finish (19 options)."
   ]
  },
  {
   "cell_type": "markdown",
   "metadata": {},
   "source": [
    " B. for each whisky there is distillery assigned. Distillery might be identified by geographical coordinates (latitude/longitude) and region/district (which indicates macrogeographic location, such as proximity to the sea, altiude etc.)"
   ]
  },
  {
   "cell_type": "markdown",
   "metadata": {},
   "source": [
    " C. for each whisky there is score indicating quality (varies from 55% to 90%): score is based on one of references invoked in \"Lapointe, F.-J. & P. Legendre. 1994. A classification of pure malt Scotch whiskies.\" study, which is starting point for this study."
   ]
  },
  {
   "cell_type": "markdown",
   "metadata": {},
   "source": [
    "###### Identified potential data applications"
   ]
  },
  {
   "cell_type": "markdown",
   "metadata": {},
   "source": [
    "\n",
    " A. relation between whisky quality score and different characteristics: check if whiskies scoring higher are more likely to have certain values of color,nose, body, palate and finish ?"
   ]
  },
  {
   "cell_type": "markdown",
   "metadata": {},
   "source": [
    " B. relation between distillery location/district/region and whisky's characteristics: is there any ? (for example, if distilleries of lower altitude tend to produce whisky of certain colour ?)"
   ]
  },
  {
   "cell_type": "markdown",
   "metadata": {},
   "source": [
    " C. similarity of whiskies (being analazyed in further part if this study): considering characteristics for each whisky, how \"similar\" they are to each other ?"
   ]
  },
  {
   "cell_type": "markdown",
   "metadata": {},
   "source": [
    "# 2. Core code: determine whiskies similarity"
   ]
  },
  {
   "cell_type": "markdown",
   "metadata": {},
   "source": [
    "ASSUMPTION: since questions in the task are related to taste preferences, distillery details (location etc) are omitted."
   ]
  },
  {
   "cell_type": "markdown",
   "metadata": {},
   "source": [
    "###### Define function for whisky distance, including only one characteristic"
   ]
  },
  {
   "cell_type": "code",
   "execution_count": 52,
   "metadata": {
    "scrolled": true
   },
   "outputs": [
    {
     "name": "stdout",
     "output_type": "stream",
     "text": [
      "            0\n",
      "0    0.000000\n",
      "1    1.732051\n",
      "2    2.000000\n",
      "3    1.732051\n",
      "4    1.000000\n",
      "..        ...\n",
      "104  0.000000\n",
      "105  1.000000\n",
      "106  1.732051\n",
      "107  1.732051\n",
      "108  1.732051\n",
      "\n",
      "[109 rows x 1 columns]\n"
     ]
    }
   ],
   "source": [
    "import pandas as pd\n",
    "from math import *\n",
    "\n",
    "#EUCLIDEAN DISTANCE: calculates distance of vectors\n",
    "def euclidean_distance(x,y):\n",
    "    return sqrt(sum(pow(a-b,2) for a,b in zip(x,y)))\n",
    "\n",
    "#DISTANCE OF ONE WHISKY TO THE ALL OTHER WHISKIES, INCLUDING ONLY ONE CHARACTERISTIC\n",
    "def char_distance(charFilename,whiskyID):\n",
    "    df = pd.read_csv(charFilename,delimiter = \" \", header = None, skiprows=1)# read data for specified characteristics\n",
    "    x = df.iloc[whiskyID]\n",
    "    y = df.iloc[whiskyID+1]\n",
    "    distance = []\n",
    "    for idx,row in df.iterrows():\n",
    "        distance.append(euclidean_distance(x,row))\n",
    "    df = pd.DataFrame(distance)\n",
    "    return df\n",
    "print(char_distance('BODY_PSutkowski.TXT',0)) # EXAMPLE: test color similarity of whisky indexed as 1 to all whiskies"
   ]
  },
  {
   "cell_type": "markdown",
   "metadata": {},
   "source": [
    "###### Define function that will calculate similarity of one whisky to another, including all characteristic."
   ]
  },
  {
   "cell_type": "markdown",
   "metadata": {},
   "source": [
    "ASSUMPTION: all characteristic are considered to have even weight"
   ]
  },
  {
   "cell_type": "code",
   "execution_count": 56,
   "metadata": {},
   "outputs": [
    {
     "name": "stdout",
     "output_type": "stream",
     "text": [
      "     COLOR.TXT  NOSE_PSutkowski.TXT  BODY_PSutkowski.TXT  PALATE.TXT  \\\n",
      "77    0.000000             0.000000             0.000000    0.000000   \n",
      "103   0.000000             1.732051             2.236068    2.000000   \n",
      "98    1.414214             1.732051             1.732051    1.000000   \n",
      "88    1.414214             1.000000             2.236068    1.732051   \n",
      "87    0.000000             2.236068             1.732051    2.236068   \n",
      "..         ...                  ...                  ...         ...   \n",
      "1     1.414214             2.449490             2.000000    2.828427   \n",
      "108   1.414214             2.236068             2.449490    2.828427   \n",
      "83    1.414214             2.449490             2.236068    2.645751   \n",
      "40    1.414214             2.449490             2.449490    2.449490   \n",
      "26    1.414214             2.828427             2.645751    2.236068   \n",
      "\n",
      "     FINISH.TXT  distance        name  score  \n",
      "77     0.000000  0.000000   Lagavulin     89  \n",
      "103    1.414214  1.476466   Teaninich     71  \n",
      "98     1.732051  1.522073     Longrow     90  \n",
      "88     1.732051  1.622877  North_Port     64  \n",
      "87     2.000000  1.640837    Mortlach     81  \n",
      "..          ...       ...         ...    ...  \n",
      "1      2.449490  2.228324    Aberlour     83  \n",
      "108    2.236068  2.232853  Tullibardi     76  \n",
      "83     2.449490  2.239002    Longmorn     85  \n",
      "40     2.449490  2.242435  Glen_Dever     75  \n",
      "26     2.236068  2.272106  Cragganmor     90  \n",
      "\n",
      "[109 rows x 8 columns]\n"
     ]
    }
   ],
   "source": [
    "def whiskies_distance(charList,whiskyID):\n",
    "    i=0\n",
    "    for characteristic in charList:\n",
    "        if i==0:\n",
    "            df = pd.DataFrame(char_distance(characteristic,whiskyID))# read/process first characteristic\n",
    "            i = 1\n",
    "        else:\n",
    "            df = df.join(char_distance(characteristic,whiskyID),rsuffix=charList[i]) #read/process further characteristics\n",
    "            i=i+1\n",
    "    df.columns=charList # rename columns to match characteristics\n",
    "    df['distance'] = df.mean(axis=1)\n",
    "    df['name'] = pd.read_csv(\"NAMES_PSutkowski.txt\",header=None) # read whiskies names from custom file\n",
    "    df['score'] = pd.read_csv(\"SCORES_PSutkowski.txt\",header=None) # read whiskies names from custom file\n",
    "    return df\n",
    "charList = ['COLOR.TXT','NOSE_PSutkowski.TXT','BODY_PSutkowski.TXT','PALATE.TXT','FINISH.TXT'] \n",
    "\n",
    "print(whiskies_distance(charList,77).sort_values(by='distance'))\n",
    "    "
   ]
  },
  {
   "cell_type": "markdown",
   "metadata": {},
   "source": [
    "# 3. Data visualization and further processing"
   ]
  }
 ],
 "metadata": {
  "kernelspec": {
   "display_name": "Python 3",
   "language": "python",
   "name": "python3"
  },
  "language_info": {
   "codemirror_mode": {
    "name": "ipython",
    "version": 3
   },
   "file_extension": ".py",
   "mimetype": "text/x-python",
   "name": "python",
   "nbconvert_exporter": "python",
   "pygments_lexer": "ipython3",
   "version": "3.8.5"
  }
 },
 "nbformat": 4,
 "nbformat_minor": 4
}
